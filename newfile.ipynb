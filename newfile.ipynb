{
 "cells": [
  {
   "cell_type": "code",
   "execution_count": 178,
   "metadata": {},
   "outputs": [],
   "source": [
    "import pandas as pd\n",
    "from matplotlib import pyplot as plt"
   ]
  },
  {
   "cell_type": "code",
   "execution_count": 179,
   "metadata": {},
   "outputs": [
    {
     "data": {
      "image/png": "[encoded data removed]",
      "text/plain": [
       "<Figure size 432x288 with 1 Axes>"
      ]
     },
     "metadata": {
      "needs_background": "light"
     },
     "output_type": "display_data"
    }
   ],
   "source": [
    "df = pd.read_csv('potato.csv')\n",
    "array=df['p/kg'].tolist()\n",
    "array\n",
    "plt.scatter(array,df['Date'])\n",
    "plt.show()"
   ]
  },
  {
   "cell_type": "code",
   "execution_count": 180,
   "metadata": {},
   "outputs": [
    {
     "data": {
      "text/plain": [
       "0.047619047619047616"
      ]
     },
     "execution_count": 180,
     "metadata": {},
     "output_type": "execute_result"
    }
   ],
   "source": [
    "first_label=(df.loc[1][1]-df.loc[0][1])/df.loc[0][1]\n",
    "first_label"
   ]
  },
  {
   "cell_type": "code",
   "execution_count": 181,
   "metadata": {},
   "outputs": [
    {
     "data": {
      "text/plain": [
       "[0,\n",
       " 1,\n",
       " 1,\n",
       " 1,\n",
       " 0,\n",
       " -1,\n",
       " -1,\n",
       " 0,\n",
       " -1,\n",
       " 0,\n",
       " 1,\n",
       " 0,\n",
       " -1,\n",
       " 1,\n",
       " -1,\n",
       " -1,\n",
       " -1,\n",
       " 1,\n",
       " 0,\n",
       " 0,\n",
       " 0,\n",
       " 0,\n",
       " 0,\n",
       " 0,\n",
       " 0,\n",
       " 0,\n",
       " 1,\n",
       " 1,\n",
       " 0,\n",
       " -1,\n",
       " 0,\n",
       " -1,\n",
       " 0,\n",
       " 0,\n",
       " 1,\n",
       " 1,\n",
       " 0,\n",
       " 0,\n",
       " -1,\n",
       " 0,\n",
       " 1,\n",
       " -1,\n",
       " 1,\n",
       " -1,\n",
       " 1,\n",
       " -1,\n",
       " 0,\n",
       " -1,\n",
       " 0,\n",
       " 1,\n",
       " 0,\n",
       " -1,\n",
       " 0,\n",
       " 1,\n",
       " 0,\n",
       " 1,\n",
       " 1,\n",
       " 1,\n",
       " -1,\n",
       " 1,\n",
       " 0,\n",
       " -1,\n",
       " 0,\n",
       " -1,\n",
       " 1,\n",
       " 1,\n",
       " 0,\n",
       " 0,\n",
       " 1,\n",
       " -1,\n",
       " 1,\n",
       " -1,\n",
       " 0,\n",
       " -1,\n",
       " 0,\n",
       " 1,\n",
       " 1,\n",
       " 0,\n",
       " -1,\n",
       " 0,\n",
       " -1,\n",
       " 0,\n",
       " 1,\n",
       " -1,\n",
       " 1,\n",
       " -1,\n",
       " 0,\n",
       " 1,\n",
       " 0,\n",
       " 1,\n",
       " 1,\n",
       " -1,\n",
       " -1,\n",
       " -1,\n",
       " -1,\n",
       " 0,\n",
       " -1,\n",
       " 0,\n",
       " -1,\n",
       " -1,\n",
       " -1,\n",
       " -1,\n",
       " -1,\n",
       " 0,\n",
       " 0,\n",
       " 0,\n",
       " -1,\n",
       " 0]"
      ]
     },
     "execution_count": 181,
     "metadata": {},
     "output_type": "execute_result"
    }
   ],
   "source": [
    "labels=df['p/kg']\n",
    "relative_change=[]\n",
    "temp=[]\n",
    "for i in range(1,len(labels)):\n",
    "    result=(labels[i]-labels[i-1])/labels[i-1]\n",
    "    relative_change.append(result)\n",
    "    label=-2\n",
    "    if result>0:\n",
    "        label=1\n",
    "    elif result==0:\n",
    "        label=0\n",
    "    else:\n",
    "        label=-1\n",
    "    temp.append(label)\n",
    "relative_change.append(0)\n",
    "new_temp = [0]+temp\n",
    "new_temp"
   ]
  },
  {
   "cell_type": "code",
   "execution_count": 236,
   "metadata": {},
   "outputs": [
    {
     "data": {
      "text/html": [
       "<div>\n",
       "<style scoped>\n",
       "    .dataframe tbody tr th:only-of-type {\n",
       "        vertical-align: middle;\n",
       "    }\n",
       "\n",
       "    .dataframe tbody tr th {\n",
       "        vertical-align: top;\n",
       "    }\n",
       "\n",
       "    .dataframe thead th {\n",
       "        text-align: right;\n",
       "    }\n",
       "</style>\n",
       "<table border=\"1\" class=\"dataframe\">\n",
       "  <thead>\n",
       "    <tr style=\"text-align: right;\">\n",
       "      <th></th>\n",
       "      <th>Date</th>\n",
       "      <th>p/kg</th>\n",
       "      <th>yms</th>\n",
       "      <th>relative_change</th>\n",
       "    </tr>\n",
       "  </thead>\n",
       "  <tbody>\n",
       "    <tr>\n",
       "      <th>88</th>\n",
       "      <td>28-Nov</td>\n",
       "      <td>67</td>\n",
       "      <td>0</td>\n",
       "      <td>0.014925</td>\n",
       "    </tr>\n",
       "    <tr>\n",
       "      <th>89</th>\n",
       "      <td>29-Nov</td>\n",
       "      <td>68</td>\n",
       "      <td>1</td>\n",
       "      <td>0.014706</td>\n",
       "    </tr>\n",
       "    <tr>\n",
       "      <th>90</th>\n",
       "      <td>30-Nov</td>\n",
       "      <td>69</td>\n",
       "      <td>1</td>\n",
       "      <td>-0.028986</td>\n",
       "    </tr>\n",
       "    <tr>\n",
       "      <th>91</th>\n",
       "      <td>01-Dec</td>\n",
       "      <td>67</td>\n",
       "      <td>-1</td>\n",
       "      <td>-0.059701</td>\n",
       "    </tr>\n",
       "    <tr>\n",
       "      <th>92</th>\n",
       "      <td>02-Dec</td>\n",
       "      <td>63</td>\n",
       "      <td>-1</td>\n",
       "      <td>-0.063492</td>\n",
       "    </tr>\n",
       "    <tr>\n",
       "      <th>93</th>\n",
       "      <td>03-Dec</td>\n",
       "      <td>59</td>\n",
       "      <td>-1</td>\n",
       "      <td>-0.050847</td>\n",
       "    </tr>\n",
       "    <tr>\n",
       "      <th>94</th>\n",
       "      <td>04-Dec</td>\n",
       "      <td>56</td>\n",
       "      <td>-1</td>\n",
       "      <td>0.000000</td>\n",
       "    </tr>\n",
       "    <tr>\n",
       "      <th>95</th>\n",
       "      <td>05-Dec</td>\n",
       "      <td>56</td>\n",
       "      <td>0</td>\n",
       "      <td>-0.017857</td>\n",
       "    </tr>\n",
       "    <tr>\n",
       "      <th>96</th>\n",
       "      <td>06-Dec</td>\n",
       "      <td>55</td>\n",
       "      <td>-1</td>\n",
       "      <td>0.000000</td>\n",
       "    </tr>\n",
       "    <tr>\n",
       "      <th>97</th>\n",
       "      <td>07-Dec</td>\n",
       "      <td>55</td>\n",
       "      <td>0</td>\n",
       "      <td>-0.018182</td>\n",
       "    </tr>\n",
       "    <tr>\n",
       "      <th>98</th>\n",
       "      <td>08-Dec</td>\n",
       "      <td>54</td>\n",
       "      <td>-1</td>\n",
       "      <td>-0.111111</td>\n",
       "    </tr>\n",
       "    <tr>\n",
       "      <th>99</th>\n",
       "      <td>09-Dec</td>\n",
       "      <td>48</td>\n",
       "      <td>-1</td>\n",
       "      <td>-0.083333</td>\n",
       "    </tr>\n",
       "    <tr>\n",
       "      <th>100</th>\n",
       "      <td>10-Dec</td>\n",
       "      <td>44</td>\n",
       "      <td>-1</td>\n",
       "      <td>-0.090909</td>\n",
       "    </tr>\n",
       "    <tr>\n",
       "      <th>101</th>\n",
       "      <td>11-Dec</td>\n",
       "      <td>40</td>\n",
       "      <td>-1</td>\n",
       "      <td>-0.100000</td>\n",
       "    </tr>\n",
       "    <tr>\n",
       "      <th>102</th>\n",
       "      <td>12-Dec</td>\n",
       "      <td>36</td>\n",
       "      <td>-1</td>\n",
       "      <td>0.000000</td>\n",
       "    </tr>\n",
       "    <tr>\n",
       "      <th>103</th>\n",
       "      <td>13-Dec</td>\n",
       "      <td>36</td>\n",
       "      <td>0</td>\n",
       "      <td>0.000000</td>\n",
       "    </tr>\n",
       "    <tr>\n",
       "      <th>104</th>\n",
       "      <td>14-Dec</td>\n",
       "      <td>36</td>\n",
       "      <td>0</td>\n",
       "      <td>0.000000</td>\n",
       "    </tr>\n",
       "    <tr>\n",
       "      <th>105</th>\n",
       "      <td>15-Dec</td>\n",
       "      <td>36</td>\n",
       "      <td>0</td>\n",
       "      <td>-0.055556</td>\n",
       "    </tr>\n",
       "    <tr>\n",
       "      <th>106</th>\n",
       "      <td>16-Dec</td>\n",
       "      <td>34</td>\n",
       "      <td>-1</td>\n",
       "      <td>0.000000</td>\n",
       "    </tr>\n",
       "    <tr>\n",
       "      <th>107</th>\n",
       "      <td>17-Dec</td>\n",
       "      <td>34</td>\n",
       "      <td>0</td>\n",
       "      <td>0.000000</td>\n",
       "    </tr>\n",
       "  </tbody>\n",
       "</table>\n",
       "</div>"
      ],
      "text/plain": [
       "       Date  p/kg  yms  relative_change\n",
       "88   28-Nov    67    0         0.014925\n",
       "89   29-Nov    68    1         0.014706\n",
       "90   30-Nov    69    1        -0.028986\n",
       "91   01-Dec    67   -1        -0.059701\n",
       "92   02-Dec    63   -1        -0.063492\n",
       "93   03-Dec    59   -1        -0.050847\n",
       "94   04-Dec    56   -1         0.000000\n",
       "95   05-Dec    56    0        -0.017857\n",
       "96   06-Dec    55   -1         0.000000\n",
       "97   07-Dec    55    0        -0.018182\n",
       "98   08-Dec    54   -1        -0.111111\n",
       "99   09-Dec    48   -1        -0.083333\n",
       "100  10-Dec    44   -1        -0.090909\n",
       "101  11-Dec    40   -1        -0.100000\n",
       "102  12-Dec    36   -1         0.000000\n",
       "103  13-Dec    36    0         0.000000\n",
       "104  14-Dec    36    0         0.000000\n",
       "105  15-Dec    36    0        -0.055556\n",
       "106  16-Dec    34   -1         0.000000\n",
       "107  17-Dec    34    0         0.000000"
      ]
     },
     "execution_count": 236,
     "metadata": {},
     "output_type": "execute_result"
    }
   ],
   "source": [
    "df['yms']=new_temp\n",
    "df['relative_change']=relative_change\n",
    "\n",
    "df.tail(20)\n"
   ]
  },
  {
   "cell_type": "code",
   "execution_count": 183,
   "metadata": {},
   "outputs": [],
   "source": []
  },
  {
   "cell_type": "code",
   "execution_count": 184,
   "metadata": {},
   "outputs": [
    {
     "data": {
      "text/plain": [
       "0      0\n",
       "1      1\n",
       "2      1\n",
       "3      1\n",
       "4      0\n",
       "      ..\n",
       "103    0\n",
       "104    0\n",
       "105    0\n",
       "106   -1\n",
       "107    0\n",
       "Name: yms, Length: 108, dtype: int64"
      ]
     },
     "execution_count": 184,
     "metadata": {},
     "output_type": "execute_result"
    }
   ],
   "source": []
  },
  {
   "cell_type": "code",
   "execution_count": null,
   "metadata": {},
   "outputs": [],
   "source": []
  },
  {
   "cell_type": "code",
   "execution_count": 238,
   "metadata": {},
   "outputs": [
    {
     "name": "stdout",
     "output_type": "stream",
     "text": [
      "No. of training examples: 94\n",
      "No. of testing examples: 14\n"
     ]
    },
    {
     "data": {
      "text/html": [
       "<div>\n",
       "<style scoped>\n",
       "    .dataframe tbody tr th:only-of-type {\n",
       "        vertical-align: middle;\n",
       "    }\n",
       "\n",
       "    .dataframe tbody tr th {\n",
       "        vertical-align: top;\n",
       "    }\n",
       "\n",
       "    .dataframe thead th {\n",
       "        text-align: right;\n",
       "    }\n",
       "</style>\n",
       "<table border=\"1\" class=\"dataframe\">\n",
       "  <thead>\n",
       "    <tr style=\"text-align: right;\">\n",
       "      <th></th>\n",
       "      <th>Date</th>\n",
       "      <th>p/kg</th>\n",
       "      <th>yms</th>\n",
       "      <th>relative_change</th>\n",
       "    </tr>\n",
       "  </thead>\n",
       "  <tbody>\n",
       "    <tr>\n",
       "      <th>89</th>\n",
       "      <td>29-Nov</td>\n",
       "      <td>68</td>\n",
       "      <td>1</td>\n",
       "      <td>0.014706</td>\n",
       "    </tr>\n",
       "    <tr>\n",
       "      <th>90</th>\n",
       "      <td>30-Nov</td>\n",
       "      <td>69</td>\n",
       "      <td>1</td>\n",
       "      <td>-0.028986</td>\n",
       "    </tr>\n",
       "    <tr>\n",
       "      <th>91</th>\n",
       "      <td>01-Dec</td>\n",
       "      <td>67</td>\n",
       "      <td>-1</td>\n",
       "      <td>-0.059701</td>\n",
       "    </tr>\n",
       "    <tr>\n",
       "      <th>92</th>\n",
       "      <td>02-Dec</td>\n",
       "      <td>63</td>\n",
       "      <td>-1</td>\n",
       "      <td>-0.063492</td>\n",
       "    </tr>\n",
       "    <tr>\n",
       "      <th>93</th>\n",
       "      <td>03-Dec</td>\n",
       "      <td>59</td>\n",
       "      <td>-1</td>\n",
       "      <td>-0.050847</td>\n",
       "    </tr>\n",
       "  </tbody>\n",
       "</table>\n",
       "</div>"
      ],
      "text/plain": [
       "      Date  p/kg  yms  relative_change\n",
       "89  29-Nov    68    1         0.014706\n",
       "90  30-Nov    69    1        -0.028986\n",
       "91  01-Dec    67   -1        -0.059701\n",
       "92  02-Dec    63   -1        -0.063492\n",
       "93  03-Dec    59   -1        -0.050847"
      ]
     },
     "execution_count": 238,
     "metadata": {},
     "output_type": "execute_result"
    }
   ],
   "source": [
    "from sklearn.model_selection import train_test_split\n",
    "df2=df.iloc[:93]\n",
    "training_data,testing_data=train_test_split(df,test_size=0.125,shuffle=False)\n",
    "print(f\"No. of training examples: {training_data.shape[0]}\")\n",
    "print(f\"No. of testing examples: {testing_data.shape[0]}\")\n",
    "# training_data.tail(5)"
   ]
  },
  {
   "cell_type": "code",
   "execution_count": 240,
   "metadata": {},
   "outputs": [
    {
     "data": {
      "text/plain": [
       "89    68\n",
       "90    69\n",
       "91    67\n",
       "92    63\n",
       "93    59\n",
       "Name: p/kg, dtype: int64"
      ]
     },
     "execution_count": 240,
     "metadata": {},
     "output_type": "execute_result"
    }
   ],
   "source": [
    "X_train,Y_train,X_test,Y_test=training_data['p/kg'],training_data['yms'],testing_data['p/kg'],testing_data['yms']\n",
    "# X_train=X_train.append(pd.Series([65],index=[92]))\n",
    "# X_test=X_test[1:]\n",
    "X_train.tail(5)"
   ]
  },
  {
   "cell_type": "code",
   "execution_count": 244,
   "metadata": {},
   "outputs": [],
   "source": [
    "import numpy as np\n",
    "def euclidean_dist(X_test, X_train):\n",
    "    num_test = X_test.shape[0]\n",
    "    num_train = X_train.shape[0]\n",
    "    dists = np.zeros((num_test, num_train))\n",
    "     \n",
    "    for i in range(num_test):\n",
    "        for j in range(num_train):\n",
    "            \n",
    "            dists[i, j] = np.sqrt(np.square(X_test.iloc[i])+np.square(X_train.iloc[j]))\n",
    "\n",
    "\n",
    "    return dists\n",
    "\n",
    "\n",
    "dicts=euclidean_dist(X_test,X_train)\n"
   ]
  },
  {
   "cell_type": "code",
   "execution_count": 245,
   "metadata": {},
   "outputs": [
    {
     "data": {
      "text/plain": [
       "array([[-1., -1.,  1.,  0.,  0.],\n",
       "       [-1., -1.,  1.,  0.,  0.],\n",
       "       [-1., -1.,  1.,  0.,  0.],\n",
       "       [-1., -1.,  1.,  0.,  0.],\n",
       "       [-1., -1.,  1.,  0.,  0.],\n",
       "       [-1., -1.,  1.,  0.,  0.],\n",
       "       [-1., -1.,  1.,  0.,  0.],\n",
       "       [-1., -1.,  1.,  0.,  0.],\n",
       "       [-1., -1.,  1.,  0.,  0.],\n",
       "       [-1., -1.,  1.,  0.,  0.],\n",
       "       [-1., -1.,  1.,  0.,  0.],\n",
       "       [-1., -1.,  1.,  0.,  0.],\n",
       "       [-1., -1.,  1.,  0.,  0.],\n",
       "       [-1., -1.,  1.,  0.,  0.]])"
      ]
     },
     "execution_count": 245,
     "metadata": {},
     "output_type": "execute_result"
    }
   ],
   "source": [
    "# k neareast neighbour\n",
    "def find_k_neighbors(dists, Y_train, k):\n",
    "    num_test = dists.shape[0]\n",
    "    neighbors = np.zeros((num_test, k))\n",
    "    sorted_idx = dists.argsort(axis=1)\n",
    "    for i in range(num_test):\n",
    "        neighbors[i] = Y_train[sorted_idx[i][:k]]\n",
    "    return neighbors\n",
    "\n",
    "neighbours=find_k_neighbors(dicts,Y_train,5)\n",
    "neighbours"
   ]
  },
  {
   "cell_type": "code",
   "execution_count": 246,
   "metadata": {},
   "outputs": [
    {
     "name": "stdout",
     "output_type": "stream",
     "text": [
      "56\n",
      "[[-1. -1.  1.  0.  0.]\n",
      " [-1. -1.  1.  0.  0.]\n",
      " [-1. -1.  1.  0.  0.]\n",
      " [-1. -1.  1.  0.  0.]\n",
      " [-1. -1.  1.  0.  0.]\n",
      " [-1. -1.  1.  0.  0.]\n",
      " [-1. -1.  1.  0.  0.]\n",
      " [-1. -1.  1.  0.  0.]\n",
      " [-1. -1.  1.  0.  0.]\n",
      " [-1. -1.  1.  0.  0.]\n",
      " [-1. -1.  1.  0.  0.]\n",
      " [-1. -1.  1.  0.  0.]\n",
      " [-1. -1.  1.  0.  0.]\n",
      " [-1. -1.  1.  0.  0.]]\n"
     ]
    }
   ],
   "source": [
    "def knn_predict(X_test, X_train, Y_train, k):\n",
    "    num_test = X_test.shape[0]\n",
    "    Y_pred = np.zeros(num_test, dtype=int)\n",
    "    dists = euclidean_dist(X_test, X_train)\n",
    "    print(X_test.iloc[0])\n",
    "    neighbors = find_k_neighbors(dists, Y_train, k)\n",
    "    print(neighbors)\n",
    "    for i in range(num_test):\n",
    "        \n",
    "        value, counts = np.unique(neighbors[i], return_counts=True)\n",
    "        idx = np.argmax(counts)\n",
    "        Y_pred[i] = value[idx]\n",
    "        \n",
    "        if X_test.shape[0]>0:\n",
    "            \n",
    "            new_dist=euclidean_dist(pd.Series(X_test.iloc[0]),X_train)\n",
    "           \n",
    "            np.append(dicts,new_dist[0])\n",
    "            \n",
    "            Y_train=Y_train.append(pd.Series([Y_pred[i]],index=[X_train.shape[0]]))\n",
    "            # print(Y_train.tail(5))\n",
    "            neighbors = find_k_neighbors(dists, Y_train, k)\n",
    "            X_train=X_train.append(pd.Series([X_test.iloc[0]],index=[X_train.shape[0]]))\n",
    "            X_test=X_test[1:]\n",
    "            \n",
    "    \n",
    "    return Y_pred\n",
    "\n",
    "k=5\n",
    "Y_pred = knn_predict(X_test, X_train, Y_train, k)"
   ]
  },
  {
   "cell_type": "code",
   "execution_count": 258,
   "metadata": {},
   "outputs": [
    {
     "name": "stdout",
     "output_type": "stream",
     "text": [
      "56\n",
      "[[-1. -1.  1.]\n",
      " [-1. -1.  1.]\n",
      " [-1. -1.  1.]\n",
      " [-1. -1.  1.]\n",
      " [-1. -1.  1.]\n",
      " [-1. -1.  1.]\n",
      " [-1. -1.  1.]\n",
      " [-1. -1.  1.]\n",
      " [-1. -1.  1.]\n",
      " [-1. -1.  1.]\n",
      " [-1. -1.  1.]\n",
      " [-1. -1.  1.]\n",
      " [-1. -1.  1.]\n",
      " [-1. -1.  1.]]\n"
     ]
    }
   ],
   "source": [
    "\n",
    "k=3\n",
    "Y_pred = knn_predict(X_test, X_train, Y_train, k)\n"
   ]
  },
  {
   "cell_type": "code",
   "execution_count": 259,
   "metadata": {},
   "outputs": [
    {
     "name": "stdout",
     "output_type": "stream",
     "text": [
      "42.857142857142854\n"
     ]
    }
   ],
   "source": [
    "def compute_error_rate(ypred, ytrue):\n",
    "  \n",
    "  error_rate=0\n",
    "  err = 0\n",
    "  num_test=len(ypred)\n",
    "  for i in range(num_test):\n",
    "      err = err + (ypred[i] != ytrue[i])  \n",
    "  error_rate = err / num_test * 100\n",
    "  return error_rate\n",
    "  \n",
    "ypred=Y_pred.tolist()\n",
    "ytrue=Y_test.tolist()\n",
    "print(compute_error_rate(ypred,ytrue))"
   ]
  },
  {
   "cell_type": "code",
   "execution_count": 249,
   "metadata": {},
   "outputs": [
    {
     "data": {
      "text/plain": [
       "[-1, 0, -1, 0, -1, -1, -1, -1, -1, 0, 0, 0, -1, 0]"
      ]
     },
     "execution_count": 249,
     "metadata": {},
     "output_type": "execute_result"
    }
   ],
   "source": [
    "ytrue"
   ]
  },
  {
   "cell_type": "code",
   "execution_count": 250,
   "metadata": {},
   "outputs": [
    {
     "data": {
      "text/plain": [
       "[-1, -1, -1, -1, -1, -1, -1, -1, -1, -1, -1, -1, -1, -1]"
      ]
     },
     "execution_count": 250,
     "metadata": {},
     "output_type": "execute_result"
    }
   ],
   "source": [
    "ypred"
   ]
  },
  {
   "cell_type": "code",
   "execution_count": 194,
   "metadata": {},
   "outputs": [
    {
     "data": {
      "text/plain": [
       "Date                 26-Nov\n",
       "p/kg                     66\n",
       "yms                       0\n",
       "relative_change    0.015152\n",
       "Name: 86, dtype: object"
      ]
     },
     "execution_count": 194,
     "metadata": {},
     "output_type": "execute_result"
    }
   ],
   "source": [
    "df.iloc[86]"
   ]
  },
  {
   "cell_type": "code",
   "execution_count": null,
   "metadata": {},
   "outputs": [],
   "source": []
  }
 ],
 "metadata": {
  "interpreter": {
   "hash": "7812ea015bdcee6f23a998adcdd2ef97c151c0c241b7b7070987d9313e41299d"
  },
  "kernelspec": {
   "display_name": "Python 3.9.6 64-bit",
   "language": "python",
   "name": "python3"
  },
  "language_info": {
   "codemirror_mode": {
    "name": "ipython",
    "version": 3
   },
   "file_extension": ".py",
   "mimetype": "text/x-python",
   "name": "python",
   "nbconvert_exporter": "python",
   "pygments_lexer": "ipython3",
   "version": "3.9.6"
  },
  "orig_nbformat": 4
 },
 "nbformat": 4,
 "nbformat_minor": 2
}
