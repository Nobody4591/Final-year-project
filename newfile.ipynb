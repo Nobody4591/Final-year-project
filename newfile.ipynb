{
 "cells": [
  {
   "cell_type": "code",
   "execution_count": 2,
   "metadata": {},
   "outputs": [],
   "source": [
    "import pandas as pd\n",
    "from matplotlib import pyplot as plt"
   ]
  },
  {
   "cell_type": "code",
   "execution_count": 3,
   "metadata": {},
   "outputs": [
    {
     "data": {
      "image/png": "[encoded data removed]",
      "text/plain": [
       "<Figure size 432x288 with 1 Axes>"
      ]
     },
     "metadata": {
      "needs_background": "light"
     },
     "output_type": "display_data"
    }
   ],
   "source": [
    "df = pd.read_csv('potato.csv')\n",
    "array=df['p/kg'].tolist()\n",
    "array\n",
    "plt.scatter(df['Date'],array)\n",
    "plt.show()\n"
   ]
  },
  {
   "cell_type": "code",
   "execution_count": 4,
   "metadata": {},
   "outputs": [
    {
     "data": {
      "text/plain": [
       "[0,\n",
       " -1,\n",
       " 1,\n",
       " 1,\n",
       " -1,\n",
       " -1,\n",
       " 0,\n",
       " -1,\n",
       " -1,\n",
       " -1,\n",
       " 1,\n",
       " 1,\n",
       " 1,\n",
       " 1,\n",
       " -1,\n",
       " 1,\n",
       " -1,\n",
       " -1,\n",
       " 1,\n",
       " 1,\n",
       " -1,\n",
       " -1,\n",
       " 1,\n",
       " -1,\n",
       " -1,\n",
       " -1,\n",
       " -1,\n",
       " 1,\n",
       " 1,\n",
       " -1,\n",
       " 1,\n",
       " -1,\n",
       " 0,\n",
       " 0,\n",
       " -1,\n",
       " -1,\n",
       " 0,\n",
       " 1,\n",
       " -1,\n",
       " 1,\n",
       " 1,\n",
       " 0,\n",
       " 0,\n",
       " 0,\n",
       " -1,\n",
       " 1,\n",
       " -1,\n",
       " -1,\n",
       " 1,\n",
       " 1,\n",
       " 0,\n",
       " -1,\n",
       " 1,\n",
       " 1,\n",
       " 1,\n",
       " -1,\n",
       " 0,\n",
       " 1,\n",
       " -1,\n",
       " 1,\n",
       " -1,\n",
       " -1,\n",
       " 0,\n",
       " 1,\n",
       " -1,\n",
       " -1,\n",
       " 1,\n",
       " -1,\n",
       " -1,\n",
       " -1,\n",
       " 1,\n",
       " -1,\n",
       " 1,\n",
       " 1,\n",
       " -1,\n",
       " -1,\n",
       " 0,\n",
       " -1,\n",
       " 1,\n",
       " -1,\n",
       " -1,\n",
       " 1,\n",
       " 1,\n",
       " 1,\n",
       " -1,\n",
       " 1,\n",
       " -1,\n",
       " 1,\n",
       " 1,\n",
       " 1,\n",
       " -1,\n",
       " 1,\n",
       " -1,\n",
       " 1,\n",
       " 1,\n",
       " 1,\n",
       " -1,\n",
       " -1,\n",
       " 1,\n",
       " 0,\n",
       " 1,\n",
       " -1,\n",
       " 1,\n",
       " -1,\n",
       " -1,\n",
       " 1,\n",
       " -1,\n",
       " 1]"
      ]
     },
     "execution_count": 4,
     "metadata": {},
     "output_type": "execute_result"
    }
   ],
   "source": [
    "labels=df['Arrival']\n",
    "relative_change=[]\n",
    "temp=[]\n",
    "for i in range(1,len(labels)):\n",
    "    result=(labels[i]-labels[i-1])/labels[i-1]\n",
    "    relative_change.append(result)\n",
    "    label=-2\n",
    "    if result>0:\n",
    "        label=1\n",
    "    elif result==0:\n",
    "        label=0\n",
    "    else:\n",
    "        label=-1\n",
    "    temp.append(label)\n",
    "relative_change.append(0)\n",
    "new_temp = [0]+temp\n",
    "new_temp"
   ]
  },
  {
   "cell_type": "code",
   "execution_count": 5,
   "metadata": {},
   "outputs": [
    {
     "data": {
      "text/html": [
       "<div>\n",
       "<style scoped>\n",
       "    .dataframe tbody tr th:only-of-type {\n",
       "        vertical-align: middle;\n",
       "    }\n",
       "\n",
       "    .dataframe tbody tr th {\n",
       "        vertical-align: top;\n",
       "    }\n",
       "\n",
       "    .dataframe thead th {\n",
       "        text-align: right;\n",
       "    }\n",
       "</style>\n",
       "<table border=\"1\" class=\"dataframe\">\n",
       "  <thead>\n",
       "    <tr style=\"text-align: right;\">\n",
       "      <th></th>\n",
       "      <th>Date</th>\n",
       "      <th>p/kg</th>\n",
       "      <th>Arrival</th>\n",
       "      <th>yms</th>\n",
       "      <th>relative_change</th>\n",
       "    </tr>\n",
       "  </thead>\n",
       "  <tbody>\n",
       "    <tr>\n",
       "      <th>88</th>\n",
       "      <td>28-Nov</td>\n",
       "      <td>67</td>\n",
       "      <td>2400</td>\n",
       "      <td>1</td>\n",
       "      <td>0.041667</td>\n",
       "    </tr>\n",
       "    <tr>\n",
       "      <th>89</th>\n",
       "      <td>29-Nov</td>\n",
       "      <td>68</td>\n",
       "      <td>2500</td>\n",
       "      <td>1</td>\n",
       "      <td>-0.120000</td>\n",
       "    </tr>\n",
       "    <tr>\n",
       "      <th>90</th>\n",
       "      <td>30-Nov</td>\n",
       "      <td>69</td>\n",
       "      <td>2200</td>\n",
       "      <td>-1</td>\n",
       "      <td>1.363636</td>\n",
       "    </tr>\n",
       "    <tr>\n",
       "      <th>91</th>\n",
       "      <td>01-Dec</td>\n",
       "      <td>67</td>\n",
       "      <td>5200</td>\n",
       "      <td>1</td>\n",
       "      <td>-0.009615</td>\n",
       "    </tr>\n",
       "    <tr>\n",
       "      <th>92</th>\n",
       "      <td>02-Dec</td>\n",
       "      <td>63</td>\n",
       "      <td>5150</td>\n",
       "      <td>-1</td>\n",
       "      <td>0.320388</td>\n",
       "    </tr>\n",
       "    <tr>\n",
       "      <th>93</th>\n",
       "      <td>03-Dec</td>\n",
       "      <td>59</td>\n",
       "      <td>6800</td>\n",
       "      <td>1</td>\n",
       "      <td>0.117647</td>\n",
       "    </tr>\n",
       "    <tr>\n",
       "      <th>94</th>\n",
       "      <td>04-Dec</td>\n",
       "      <td>56</td>\n",
       "      <td>7600</td>\n",
       "      <td>1</td>\n",
       "      <td>0.302632</td>\n",
       "    </tr>\n",
       "    <tr>\n",
       "      <th>95</th>\n",
       "      <td>05-Dec</td>\n",
       "      <td>56</td>\n",
       "      <td>9900</td>\n",
       "      <td>1</td>\n",
       "      <td>-0.277778</td>\n",
       "    </tr>\n",
       "    <tr>\n",
       "      <th>96</th>\n",
       "      <td>06-Dec</td>\n",
       "      <td>55</td>\n",
       "      <td>7150</td>\n",
       "      <td>-1</td>\n",
       "      <td>-0.384615</td>\n",
       "    </tr>\n",
       "    <tr>\n",
       "      <th>97</th>\n",
       "      <td>07-Dec</td>\n",
       "      <td>55</td>\n",
       "      <td>4400</td>\n",
       "      <td>-1</td>\n",
       "      <td>0.204545</td>\n",
       "    </tr>\n",
       "    <tr>\n",
       "      <th>98</th>\n",
       "      <td>08-Dec</td>\n",
       "      <td>54</td>\n",
       "      <td>5300</td>\n",
       "      <td>1</td>\n",
       "      <td>0.000000</td>\n",
       "    </tr>\n",
       "    <tr>\n",
       "      <th>99</th>\n",
       "      <td>09-Dec</td>\n",
       "      <td>48</td>\n",
       "      <td>5300</td>\n",
       "      <td>0</td>\n",
       "      <td>0.056604</td>\n",
       "    </tr>\n",
       "    <tr>\n",
       "      <th>100</th>\n",
       "      <td>10-Dec</td>\n",
       "      <td>44</td>\n",
       "      <td>5600</td>\n",
       "      <td>1</td>\n",
       "      <td>-0.410714</td>\n",
       "    </tr>\n",
       "    <tr>\n",
       "      <th>101</th>\n",
       "      <td>11-Dec</td>\n",
       "      <td>40</td>\n",
       "      <td>3300</td>\n",
       "      <td>-1</td>\n",
       "      <td>0.393939</td>\n",
       "    </tr>\n",
       "    <tr>\n",
       "      <th>102</th>\n",
       "      <td>12-Dec</td>\n",
       "      <td>36</td>\n",
       "      <td>4600</td>\n",
       "      <td>1</td>\n",
       "      <td>-0.086957</td>\n",
       "    </tr>\n",
       "    <tr>\n",
       "      <th>103</th>\n",
       "      <td>13-Dec</td>\n",
       "      <td>36</td>\n",
       "      <td>4200</td>\n",
       "      <td>-1</td>\n",
       "      <td>-0.095238</td>\n",
       "    </tr>\n",
       "    <tr>\n",
       "      <th>104</th>\n",
       "      <td>14-Dec</td>\n",
       "      <td>36</td>\n",
       "      <td>3800</td>\n",
       "      <td>-1</td>\n",
       "      <td>0.736842</td>\n",
       "    </tr>\n",
       "    <tr>\n",
       "      <th>105</th>\n",
       "      <td>15-Dec</td>\n",
       "      <td>36</td>\n",
       "      <td>6600</td>\n",
       "      <td>1</td>\n",
       "      <td>-0.318182</td>\n",
       "    </tr>\n",
       "    <tr>\n",
       "      <th>106</th>\n",
       "      <td>16-Dec</td>\n",
       "      <td>34</td>\n",
       "      <td>4500</td>\n",
       "      <td>-1</td>\n",
       "      <td>0.155556</td>\n",
       "    </tr>\n",
       "    <tr>\n",
       "      <th>107</th>\n",
       "      <td>17-Dec</td>\n",
       "      <td>34</td>\n",
       "      <td>5200</td>\n",
       "      <td>1</td>\n",
       "      <td>0.000000</td>\n",
       "    </tr>\n",
       "  </tbody>\n",
       "</table>\n",
       "</div>"
      ],
      "text/plain": [
       "       Date  p/kg  Arrival  yms  relative_change\n",
       "88   28-Nov    67     2400    1         0.041667\n",
       "89   29-Nov    68     2500    1        -0.120000\n",
       "90   30-Nov    69     2200   -1         1.363636\n",
       "91   01-Dec    67     5200    1        -0.009615\n",
       "92   02-Dec    63     5150   -1         0.320388\n",
       "93   03-Dec    59     6800    1         0.117647\n",
       "94   04-Dec    56     7600    1         0.302632\n",
       "95   05-Dec    56     9900    1        -0.277778\n",
       "96   06-Dec    55     7150   -1        -0.384615\n",
       "97   07-Dec    55     4400   -1         0.204545\n",
       "98   08-Dec    54     5300    1         0.000000\n",
       "99   09-Dec    48     5300    0         0.056604\n",
       "100  10-Dec    44     5600    1        -0.410714\n",
       "101  11-Dec    40     3300   -1         0.393939\n",
       "102  12-Dec    36     4600    1        -0.086957\n",
       "103  13-Dec    36     4200   -1        -0.095238\n",
       "104  14-Dec    36     3800   -1         0.736842\n",
       "105  15-Dec    36     6600    1        -0.318182\n",
       "106  16-Dec    34     4500   -1         0.155556\n",
       "107  17-Dec    34     5200    1         0.000000"
      ]
     },
     "execution_count": 5,
     "metadata": {},
     "output_type": "execute_result"
    }
   ],
   "source": [
    "df['yms']=new_temp\n",
    "df['relative_change']=relative_change\n",
    "df.tail(20)\n",
    "# df.to_csv('result.csv')"
   ]
  },
  {
   "cell_type": "code",
   "execution_count": 6,
   "metadata": {},
   "outputs": [
    {
     "name": "stdout",
     "output_type": "stream",
     "text": [
      "No. of training examples: 102\n",
      "No. of testing examples: 6\n"
     ]
    }
   ],
   "source": [
    "from sklearn.model_selection import train_test_split\n",
    "df2=df.iloc[:93]\n",
    "training_data,testing_data=train_test_split(df,test_size=0.05,shuffle=False)\n",
    "print(f\"No. of training examples: {training_data.shape[0]}\")\n",
    "print(f\"No. of testing examples: {testing_data.shape[0]}\")\n",
    "# training_data.tail(5)"
   ]
  },
  {
   "cell_type": "code",
   "execution_count": 7,
   "metadata": {},
   "outputs": [
    {
     "name": "stdout",
     "output_type": "stream",
     "text": [
      "<class 'numpy.ndarray'>\n"
     ]
    }
   ],
   "source": [
    "X_train,Y_train,X_test,Y_test=training_data[['p/kg','Arrival']],training_data['yms'],testing_data[['p/kg','Arrival']],testing_data['yms']\n",
    "# X_train=X_train.append(pd.Series([65],index=[92]))\n",
    "# X_test=X_test[1:]\n",
    "\n",
    "X_train=X_train.to_numpy()\n",
    "Y_train=Y_train.to_numpy()\n",
    "X_test=X_test.to_numpy()\n",
    "Y_test=Y_test.to_numpy()\n",
    "print(type(X_test))"
   ]
  },
  {
   "cell_type": "code",
   "execution_count": 8,
   "metadata": {},
   "outputs": [
    {
     "name": "stdout",
     "output_type": "stream",
     "text": [
      "6\n"
     ]
    }
   ],
   "source": [
    "import numpy as np\n",
    "def euclidean_dist(X_test, X_train):\n",
    "    num_test = X_test.shape[0]\n",
    "    num_train = X_train.shape[0]\n",
    "    dists = np.zeros((num_test, num_train))\n",
    "    a = np.zeros(num_test)\n",
    "    b = np.zeros(num_train)\n",
    "    for i in range(num_test):\n",
    "        a[i] = np.dot(X_test[i], X_test[i])\n",
    "    for j in range(num_train):\n",
    "        b[j] = np.dot(X_train[j], X_train[j])  \n",
    "    for i in range(num_test):\n",
    "        for j in range(num_train):\n",
    "            dists[i, j] = a[i] + b[j] - 2 * np.dot(X_test[i], X_train[j])\n",
    "    \n",
    "\n",
    "    return dists\n",
    "    \n",
    "\n",
    "print(len(X_test))\n",
    "dicts=euclidean_dist(np.array(X_test[:1]),X_train)\n"
   ]
  },
  {
   "cell_type": "code",
   "execution_count": 9,
   "metadata": {},
   "outputs": [
    {
     "data": {
      "text/plain": [
       "array([[-1., -1.,  1.,  0.,  1.]])"
      ]
     },
     "execution_count": 9,
     "metadata": {},
     "output_type": "execute_result"
    }
   ],
   "source": [
    "# k neareast neighbour\n",
    "def find_k_neighbors(dists, Y_train, k):\n",
    "    num_test = dists.shape[0]\n",
    "    neighbors = np.zeros((num_test, k))\n",
    "    sorted_idx = dists.argsort(axis=1)\n",
    "    for i in range(num_test):\n",
    "        neighbors[i] = Y_train[sorted_idx[i][:k]]\n",
    "    return neighbors\n",
    "\n",
    "neighbours=find_k_neighbors(dicts,Y_train,5)\n",
    "neighbours"
   ]
  },
  {
   "cell_type": "code",
   "execution_count": 12,
   "metadata": {},
   "outputs": [
    {
     "name": "stdout",
     "output_type": "stream",
     "text": [
      "<class 'tuple'>\n",
      "<class 'numpy.ndarray'>\n",
      "<class 'tuple'>\n",
      "<class 'numpy.ndarray'>\n"
     ]
    },
    {
     "ename": "ValueError",
     "evalue": "setting an array element with a sequence.",
     "output_type": "error",
     "traceback": [
      "\u001b[0;31m---------------------------------------------------------------------------\u001b[0m",
      "\u001b[0;31mTypeError\u001b[0m                                 Traceback (most recent call last)",
      "\u001b[0;31mTypeError\u001b[0m: only size-1 arrays can be converted to Python scalars",
      "\nThe above exception was the direct cause of the following exception:\n",
      "\u001b[0;31mValueError\u001b[0m                                Traceback (most recent call last)",
      "\u001b[0;32m/var/folders/4m/cy6scv5x4vq5nczpvh9781b40000gp/T/ipykernel_11147/2263670339.py\u001b[0m in \u001b[0;36m<module>\u001b[0;34m\u001b[0m\n\u001b[1;32m     25\u001b[0m     \u001b[0;32mreturn\u001b[0m \u001b[0mY_pred\u001b[0m\u001b[0;34m\u001b[0m\u001b[0;34m\u001b[0m\u001b[0m\n\u001b[1;32m     26\u001b[0m \u001b[0mk\u001b[0m\u001b[0;34m=\u001b[0m\u001b[0;36m2\u001b[0m\u001b[0;34m\u001b[0m\u001b[0;34m\u001b[0m\u001b[0m\n\u001b[0;32m---> 27\u001b[0;31m \u001b[0mY_pred\u001b[0m \u001b[0;34m=\u001b[0m \u001b[0mknn_predict\u001b[0m\u001b[0;34m(\u001b[0m\u001b[0mX_test\u001b[0m\u001b[0;34m,\u001b[0m \u001b[0mX_train\u001b[0m\u001b[0;34m,\u001b[0m \u001b[0mY_train\u001b[0m\u001b[0;34m,\u001b[0m \u001b[0mk\u001b[0m\u001b[0;34m)\u001b[0m\u001b[0;34m\u001b[0m\u001b[0;34m\u001b[0m\u001b[0m\n\u001b[0m",
      "\u001b[0;32m/var/folders/4m/cy6scv5x4vq5nczpvh9781b40000gp/T/ipykernel_11147/2263670339.py\u001b[0m in \u001b[0;36mknn_predict\u001b[0;34m(X_test, X_train, Y_train, k)\u001b[0m\n\u001b[1;32m     13\u001b[0m             \u001b[0mprint\u001b[0m\u001b[0;34m(\u001b[0m\u001b[0mtype\u001b[0m\u001b[0;34m(\u001b[0m\u001b[0mX_test\u001b[0m\u001b[0;34m[\u001b[0m\u001b[0;36m0\u001b[0m\u001b[0;34m]\u001b[0m\u001b[0;34m.\u001b[0m\u001b[0mshape\u001b[0m\u001b[0;34m)\u001b[0m\u001b[0;34m)\u001b[0m\u001b[0;34m\u001b[0m\u001b[0;34m\u001b[0m\u001b[0m\n\u001b[1;32m     14\u001b[0m             \u001b[0mprint\u001b[0m\u001b[0;34m(\u001b[0m\u001b[0mtype\u001b[0m\u001b[0;34m(\u001b[0m\u001b[0mX_train\u001b[0m\u001b[0;34m)\u001b[0m\u001b[0;34m)\u001b[0m\u001b[0;34m\u001b[0m\u001b[0;34m\u001b[0m\u001b[0m\n\u001b[0;32m---> 15\u001b[0;31m             \u001b[0mnew_dist\u001b[0m\u001b[0;34m=\u001b[0m\u001b[0meuclidean_dist\u001b[0m\u001b[0;34m(\u001b[0m\u001b[0mX_test\u001b[0m\u001b[0;34m[\u001b[0m\u001b[0;34m:\u001b[0m\u001b[0;36m1\u001b[0m\u001b[0;34m]\u001b[0m\u001b[0;34m,\u001b[0m\u001b[0mX_train\u001b[0m\u001b[0;34m)\u001b[0m\u001b[0;34m\u001b[0m\u001b[0;34m\u001b[0m\u001b[0m\n\u001b[0m\u001b[1;32m     16\u001b[0m \u001b[0;34m\u001b[0m\u001b[0m\n\u001b[1;32m     17\u001b[0m             \u001b[0mnp\u001b[0m\u001b[0;34m.\u001b[0m\u001b[0mappend\u001b[0m\u001b[0;34m(\u001b[0m\u001b[0mdicts\u001b[0m\u001b[0;34m,\u001b[0m\u001b[0mnew_dist\u001b[0m\u001b[0;34m[\u001b[0m\u001b[0;36m0\u001b[0m\u001b[0;34m]\u001b[0m\u001b[0;34m)\u001b[0m\u001b[0;34m\u001b[0m\u001b[0;34m\u001b[0m\u001b[0m\n",
      "\u001b[0;32m/var/folders/4m/cy6scv5x4vq5nczpvh9781b40000gp/T/ipykernel_11147/3141679205.py\u001b[0m in \u001b[0;36meuclidean_dist\u001b[0;34m(X_test, X_train)\u001b[0m\n\u001b[1;32m     12\u001b[0m     \u001b[0;32mfor\u001b[0m \u001b[0mi\u001b[0m \u001b[0;32min\u001b[0m \u001b[0mrange\u001b[0m\u001b[0;34m(\u001b[0m\u001b[0mnum_test\u001b[0m\u001b[0;34m)\u001b[0m\u001b[0;34m:\u001b[0m\u001b[0;34m\u001b[0m\u001b[0;34m\u001b[0m\u001b[0m\n\u001b[1;32m     13\u001b[0m         \u001b[0;32mfor\u001b[0m \u001b[0mj\u001b[0m \u001b[0;32min\u001b[0m \u001b[0mrange\u001b[0m\u001b[0;34m(\u001b[0m\u001b[0mnum_train\u001b[0m\u001b[0;34m)\u001b[0m\u001b[0;34m:\u001b[0m\u001b[0;34m\u001b[0m\u001b[0;34m\u001b[0m\u001b[0m\n\u001b[0;32m---> 14\u001b[0;31m             \u001b[0mdists\u001b[0m\u001b[0;34m[\u001b[0m\u001b[0mi\u001b[0m\u001b[0;34m,\u001b[0m \u001b[0mj\u001b[0m\u001b[0;34m]\u001b[0m \u001b[0;34m=\u001b[0m \u001b[0ma\u001b[0m\u001b[0;34m[\u001b[0m\u001b[0mi\u001b[0m\u001b[0;34m]\u001b[0m \u001b[0;34m+\u001b[0m \u001b[0mb\u001b[0m\u001b[0;34m[\u001b[0m\u001b[0mj\u001b[0m\u001b[0;34m]\u001b[0m \u001b[0;34m-\u001b[0m \u001b[0;36m2\u001b[0m \u001b[0;34m*\u001b[0m \u001b[0mnp\u001b[0m\u001b[0;34m.\u001b[0m\u001b[0mdot\u001b[0m\u001b[0;34m(\u001b[0m\u001b[0mX_test\u001b[0m\u001b[0;34m[\u001b[0m\u001b[0mi\u001b[0m\u001b[0;34m]\u001b[0m\u001b[0;34m,\u001b[0m \u001b[0mX_train\u001b[0m\u001b[0;34m[\u001b[0m\u001b[0mj\u001b[0m\u001b[0;34m]\u001b[0m\u001b[0;34m)\u001b[0m\u001b[0;34m\u001b[0m\u001b[0;34m\u001b[0m\u001b[0m\n\u001b[0m\u001b[1;32m     15\u001b[0m \u001b[0;34m\u001b[0m\u001b[0m\n\u001b[1;32m     16\u001b[0m \u001b[0;34m\u001b[0m\u001b[0m\n",
      "\u001b[0;31mValueError\u001b[0m: setting an array element with a sequence."
     ]
    }
   ],
   "source": [
    "def knn_predict(X_test, X_train, Y_train, k):\n",
    "    num_test = X_test.shape[0]\n",
    "    Y_pred = np.zeros(num_test, dtype=int)\n",
    "    dists = euclidean_dist(X_test, X_train)\n",
    "    neighbors = find_k_neighbors(dists, Y_train, k)\n",
    "\n",
    "    for i in range(num_test):\n",
    "        value, counts = np.unique(neighbors[i], return_counts=True)\n",
    "        idx = np.argmax(counts)\n",
    "        Y_pred[i] = value[idx]\n",
    "        if len(X_test)>0:\n",
    "            \n",
    "            print(type(X_test[0].shape))\n",
    "            print(type(X_train))\n",
    "            new_dist=euclidean_dist(X_test[:1],X_train)\n",
    "           \n",
    "            np.append(dicts,new_dist[0])\n",
    "            \n",
    "            Y_train=np.append(Y_train, Y_pred[i])\n",
    "            # print(Y_train.tail(5))\n",
    "            neighbors = find_k_neighbors(dists, Y_train, k)\n",
    "            X_train=np.append(X_train, X_test[:1])\n",
    "            X_test=X_test[1:]\n",
    "    \n",
    "    return Y_pred\n",
    "k=2\n",
    "Y_pred = knn_predict(X_test, X_train, Y_train, k)\n"
   ]
  },
  {
   "cell_type": "code",
   "execution_count": 32,
   "metadata": {},
   "outputs": [
    {
     "name": "stdout",
     "output_type": "stream",
     "text": [
      "[[ 97  92  91  99  98 100 101  85  89  93  88  83  87  90  96  82  94  86\n",
      "   84  81  73  78  70  19  66  63  74  67   0   3  79  15  80  64  72  54\n",
      "    4  65  68  18  22  49  50   2  13  71  69  53  16   6   5  75  76  59\n",
      "   57  30  52  12  45  37   1  55  56  48  60  11  31  32  33  23  41   7\n",
      "   43  51  40  42  28  77  10  46  20   8  24  34  44  14  61  62  39  27\n",
      "   21  17   9  25  47  29  35  36  38  26  58  95]\n",
      " [ 97 101  92  91  99  98 100  85  89  88  83  87  90  82  93  86  96  84\n",
      "   81  73  94  78  70  19  66  63  74  67   0   3  79  15  80  64  72  54\n",
      "    4  65  68  18  22  49  50   2  13  71  69  53  16   6   5  75  76  59\n",
      "   57  30  52  12  45  37   1  55  56  48  60  11  31  32  33  23  41   7\n",
      "   43  51  40  42  28  77  10  46  20   8  24  34  44  14  61  62  39  27\n",
      "   21  17   9  25  47  29  35  36  38  26  58  95]\n",
      " [101  97  85  89  92  83  88  91  99  98  87  90 100  82  86  84  81  73\n",
      "   93  78  70  19  66  63  74  67   0   3  79  15  80  64  72  54   4  65\n",
      "   68  18  96  22  49  50   2  13  71  69  53  16   6   5  75  57  59  76\n",
      "   12  52  30  45   1  37  55  56  48  60  11  41  33  32  31  23  43  40\n",
      "    7  51  42  28  77  10  46  20   8  24  34  44  14  62  61  39  27  25\n",
      "   21  17   9  47  29  36  35  38  26  58  94  95]\n",
      " [ 93  96 100  94  99  98  91  92  97 101  95  85  89  88  83  87  90  82\n",
      "   86  84  81  73  78  70  19  66  63  74  67   0   3  79  15  80  64  72\n",
      "   54   4  65  68  18  22  49  50   2  13  71  69  53  16   6   5  75  76\n",
      "   59  57  12  30  52  45   1  37  55  56  48  60  11  41  31  32  33  23\n",
      "   40   7  51  43  42  28  77  10  46  24   8  20  34  44  14  62  61  39\n",
      "   27  21   9  25  17  47  29  35  36  38  26  58]\n",
      " [ 97  92  91  99  98 100 101  85  89  88  83  87  93  90  96  82  86  94\n",
      "   84  81  73  78  70  19  66  63  74  67   0   3  79  15  80  64  72  54\n",
      "    4  65  68  18  22  49  50   2  13  71  69  53  16   6   5  75  76  59\n",
      "   57  30  52  12  45  37   1  55  56  48  60  11  31  32  33  23  41   7\n",
      "   43  51  40  42  28  77  10  46  20   8  24  34  44  14  61  62  39  27\n",
      "   21  17   9  25  47  29  35  36  38  26  58  95]\n",
      " [ 91  92  99  98 100  97  93 101  96  94  85  89  88  83  87  90  82  86\n",
      "   84  81  73  78  70  19  66  63  74  67   0   3  79  15  80  64  72  95\n",
      "   54   4  65  68  18  22  49  50   2  13  71  69  53  16   6   5  75  57\n",
      "   59  76  52  12  30  45  37   1  55  56  48  60  11  31  33  23  32  41\n",
      "   43   7  40  51  42  28  77  10  46   8  24  20  34  44  14  61  62  39\n",
      "   27   9  21  25  17  47  29  36  35  38  26  58]]\n"
     ]
    }
   ],
   "source": [
    "\n",
    "k=5\n",
    "Y_pred = knn_predict(X_test, X_train, Y_train, k)\n"
   ]
  },
  {
   "cell_type": "code",
   "execution_count": 33,
   "metadata": {},
   "outputs": [
    {
     "name": "stdout",
     "output_type": "stream",
     "text": [
      "eficiency:  83.33333333333334\n"
     ]
    }
   ],
   "source": [
    "def compute_error_rate(ypred, ytrue):\n",
    "  \n",
    "  error_rate=0\n",
    "  err = 0\n",
    "  num_test=len(ypred)\n",
    "  for i in range(num_test):\n",
    "      err = err + (ypred[i] != ytrue[i])  \n",
    "  error_rate = err / num_test * 100\n",
    "  return error_rate\n",
    "  \n",
    "ypred=Y_pred.tolist()\n",
    "ytrue=Y_test.tolist()\n",
    "print('eficiency: ',100-compute_error_rate(ypred,ytrue))"
   ]
  },
  {
   "cell_type": "code",
   "execution_count": 34,
   "metadata": {},
   "outputs": [
    {
     "data": {
      "text/plain": [
       "[1, -1, -1, 1, -1, 1]"
      ]
     },
     "execution_count": 34,
     "metadata": {},
     "output_type": "execute_result"
    }
   ],
   "source": [
    "ytrue"
   ]
  },
  {
   "cell_type": "code",
   "execution_count": 35,
   "metadata": {},
   "outputs": [
    {
     "data": {
      "text/plain": [
       "[-1, -1, -1, 1, -1, 1]"
      ]
     },
     "execution_count": 35,
     "metadata": {},
     "output_type": "execute_result"
    }
   ],
   "source": [
    "ypred"
   ]
  },
  {
   "cell_type": "code",
   "execution_count": 15,
   "metadata": {},
   "outputs": [
    {
     "data": {
      "text/plain": [
       "Date                 26-Nov\n",
       "p/kg                     66\n",
       "yms                       0\n",
       "relative_change    0.015152\n",
       "Name: 86, dtype: object"
      ]
     },
     "execution_count": 15,
     "metadata": {},
     "output_type": "execute_result"
    }
   ],
   "source": [
    "df.iloc[86]"
   ]
  },
  {
   "cell_type": "code",
   "execution_count": null,
   "metadata": {},
   "outputs": [],
   "source": []
  }
 ],
 "metadata": {
  "interpreter": {
   "hash": "7812ea015bdcee6f23a998adcdd2ef97c151c0c241b7b7070987d9313e41299d"
  },
  "kernelspec": {
   "display_name": "Python 3.9.6 64-bit",
   "language": "python",
   "name": "python3"
  },
  "language_info": {
   "codemirror_mode": {
    "name": "ipython",
    "version": 3
   },
   "file_extension": ".py",
   "mimetype": "text/x-python",
   "name": "python",
   "nbconvert_exporter": "python",
   "pygments_lexer": "ipython3",
   "version": "3.9.6"
  },
  "orig_nbformat": 4
 },
 "nbformat": 4,
 "nbformat_minor": 2
}
